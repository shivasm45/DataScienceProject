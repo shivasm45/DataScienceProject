{
  "cells": [
    {
      "cell_type": "markdown",
      "metadata": {
        "id": "b016ecd9"
      },
      "source": [
        "# **Data Science  Project** "
      ],
      "id": "b016ecd9"
    },
    {
      "cell_type": "markdown",
      "metadata": {
        "id": "5a17c9e0"
      },
      "source": [
        "## **GROUP - 9**  \n",
        "\n",
        "--Yash Mehta - 19070123137\t\n",
        "\n",
        "--Kankshita K - 19070123051\t\n",
        "\n",
        "--Anisha Milred - 19070123008 \n",
        "\n",
        "--Sharmishtha Tongia - 19070123125 \n",
        "\n",
        "--Shivashankarar Murugan - 19070123106\t"
      ],
      "id": "5a17c9e0"
    },
    {
      "cell_type": "markdown",
      "metadata": {
        "id": "f4d53e8a"
      },
      "source": [
        "### **Title** : \"PREDICTION OF POTENTIALLY HAZARDOUS NEAREST EARTH OBJECTS (NEOs) USING MACHINE LEARNING\" "
      ],
      "id": "f4d53e8a"
    },
    {
      "cell_type": "markdown",
      "metadata": {
        "id": "058ab40f"
      },
      "source": [
        "### The attributes of NASA NEO dataset are:\n",
        "\n",
        "-> id : identifier (the same object can have several rows in the dataset, as it has been observed multiple times)\n",
        "\n",
        "-> name : name given by NASA (including the year the asteroid was discovered)\n",
        "\n",
        "-> est_diameter_min : minimum estimated diameter in kilometers\n",
        "\n",
        "-> est_diameter_max : maximum estimated diameter in kilometers\n",
        "\n",
        "-> relative_velocity : velocity relative to earth\n",
        "\n",
        "-> miss_distance : distance in kilometers it misses Earth\n",
        "\n",
        "-> orbiting_body : planet that the asteroid orbits\n",
        "\n",
        "-> sentry_object : whether it is included in sentry - an automated collision monitoring system\n",
        "\n",
        "-> absolute_magnitude : intrinsic luminosity\n",
        "\n",
        "-> hazardous : whether the asteriod is potentially harmful or not"
      ],
      "id": "058ab40f"
    },
    {
      "cell_type": "markdown",
      "metadata": {
        "id": "79fb0d03"
      },
      "source": [
        "### Importing Required Libraries"
      ],
      "id": "79fb0d03"
    },
    {
      "cell_type": "code",
      "execution_count": null,
      "metadata": {
        "id": "9ba3eb78"
      },
      "outputs": [],
      "source": [
        "import pandas as pd \n",
        "import seaborn as sns \n",
        "import matplotlib.pyplot as plt \n",
        "%matplotlib inline \n",
        "import plotly.express as px\n",
        "import numpy as np"
      ],
      "id": "9ba3eb78"
    },
    {
      "cell_type": "code",
      "execution_count": null,
      "metadata": {
        "colab": {
          "base_uri": "https://localhost:8080/"
        },
        "id": "IdgeBKArF-lS",
        "outputId": "51b51207-9344-484b-d5f2-de1e8ac12bc6"
      },
      "outputs": [
        {
          "output_type": "stream",
          "name": "stdout",
          "text": [
            "Mounted at /content/drive\n"
          ]
        }
      ],
      "source": [
        "from google.colab import drive\n",
        "drive.mount('/content/drive')\n",
        "import os\n",
        "os.chdir('/content/drive/My Drive')"
      ],
      "id": "IdgeBKArF-lS"
    },
    {
      "cell_type": "markdown",
      "metadata": {
        "id": "e9f7d1d8"
      },
      "source": [
        "### Importing Dataset"
      ],
      "id": "e9f7d1d8"
    },
    {
      "cell_type": "code",
      "execution_count": null,
      "metadata": {
        "colab": {
          "base_uri": "https://localhost:8080/",
          "height": 206
        },
        "id": "a78898c5",
        "outputId": "8f46df67-a0e2-4e3c-e049-39c30b76b5ee"
      },
      "outputs": [
        {
          "output_type": "execute_result",
          "data": {
            "text/plain": [
              "        id                 name  est_diameter_min  est_diameter_max  \\\n",
              "0  2162635  162635 (2000 SS164)          1.198271          2.679415   \n",
              "1  2277475    277475 (2005 WK4)          0.265800          0.594347   \n",
              "2  2512244   512244 (2015 YE18)          0.722030          1.614507   \n",
              "3  3596030          (2012 BV13)          0.096506          0.215794   \n",
              "4  3667127          (2014 GE35)          0.255009          0.570217   \n",
              "\n",
              "   relative_velocity  miss_distance orbiting_body  sentry_object  \\\n",
              "0       13569.249224   5.483974e+07         Earth          False   \n",
              "1       73588.726663   6.143813e+07         Earth          False   \n",
              "2      114258.692129   4.979872e+07         Earth          False   \n",
              "3       24764.303138   2.543497e+07         Earth          False   \n",
              "4       42737.733765   4.627557e+07         Earth          False   \n",
              "\n",
              "   absolute_magnitude  hazardous  \n",
              "0               16.73      False  \n",
              "1               20.00       True  \n",
              "2               17.83      False  \n",
              "3               22.20      False  \n",
              "4               20.09       True  "
            ],
            "text/html": [
              "\n",
              "  <div id=\"df-6ed3f9c2-fe13-43d8-a12c-946e5e8b5bc5\">\n",
              "    <div class=\"colab-df-container\">\n",
              "      <div>\n",
              "<style scoped>\n",
              "    .dataframe tbody tr th:only-of-type {\n",
              "        vertical-align: middle;\n",
              "    }\n",
              "\n",
              "    .dataframe tbody tr th {\n",
              "        vertical-align: top;\n",
              "    }\n",
              "\n",
              "    .dataframe thead th {\n",
              "        text-align: right;\n",
              "    }\n",
              "</style>\n",
              "<table border=\"1\" class=\"dataframe\">\n",
              "  <thead>\n",
              "    <tr style=\"text-align: right;\">\n",
              "      <th></th>\n",
              "      <th>id</th>\n",
              "      <th>name</th>\n",
              "      <th>est_diameter_min</th>\n",
              "      <th>est_diameter_max</th>\n",
              "      <th>relative_velocity</th>\n",
              "      <th>miss_distance</th>\n",
              "      <th>orbiting_body</th>\n",
              "      <th>sentry_object</th>\n",
              "      <th>absolute_magnitude</th>\n",
              "      <th>hazardous</th>\n",
              "    </tr>\n",
              "  </thead>\n",
              "  <tbody>\n",
              "    <tr>\n",
              "      <th>0</th>\n",
              "      <td>2162635</td>\n",
              "      <td>162635 (2000 SS164)</td>\n",
              "      <td>1.198271</td>\n",
              "      <td>2.679415</td>\n",
              "      <td>13569.249224</td>\n",
              "      <td>5.483974e+07</td>\n",
              "      <td>Earth</td>\n",
              "      <td>False</td>\n",
              "      <td>16.73</td>\n",
              "      <td>False</td>\n",
              "    </tr>\n",
              "    <tr>\n",
              "      <th>1</th>\n",
              "      <td>2277475</td>\n",
              "      <td>277475 (2005 WK4)</td>\n",
              "      <td>0.265800</td>\n",
              "      <td>0.594347</td>\n",
              "      <td>73588.726663</td>\n",
              "      <td>6.143813e+07</td>\n",
              "      <td>Earth</td>\n",
              "      <td>False</td>\n",
              "      <td>20.00</td>\n",
              "      <td>True</td>\n",
              "    </tr>\n",
              "    <tr>\n",
              "      <th>2</th>\n",
              "      <td>2512244</td>\n",
              "      <td>512244 (2015 YE18)</td>\n",
              "      <td>0.722030</td>\n",
              "      <td>1.614507</td>\n",
              "      <td>114258.692129</td>\n",
              "      <td>4.979872e+07</td>\n",
              "      <td>Earth</td>\n",
              "      <td>False</td>\n",
              "      <td>17.83</td>\n",
              "      <td>False</td>\n",
              "    </tr>\n",
              "    <tr>\n",
              "      <th>3</th>\n",
              "      <td>3596030</td>\n",
              "      <td>(2012 BV13)</td>\n",
              "      <td>0.096506</td>\n",
              "      <td>0.215794</td>\n",
              "      <td>24764.303138</td>\n",
              "      <td>2.543497e+07</td>\n",
              "      <td>Earth</td>\n",
              "      <td>False</td>\n",
              "      <td>22.20</td>\n",
              "      <td>False</td>\n",
              "    </tr>\n",
              "    <tr>\n",
              "      <th>4</th>\n",
              "      <td>3667127</td>\n",
              "      <td>(2014 GE35)</td>\n",
              "      <td>0.255009</td>\n",
              "      <td>0.570217</td>\n",
              "      <td>42737.733765</td>\n",
              "      <td>4.627557e+07</td>\n",
              "      <td>Earth</td>\n",
              "      <td>False</td>\n",
              "      <td>20.09</td>\n",
              "      <td>True</td>\n",
              "    </tr>\n",
              "  </tbody>\n",
              "</table>\n",
              "</div>\n",
              "      <button class=\"colab-df-convert\" onclick=\"convertToInteractive('df-6ed3f9c2-fe13-43d8-a12c-946e5e8b5bc5')\"\n",
              "              title=\"Convert this dataframe to an interactive table.\"\n",
              "              style=\"display:none;\">\n",
              "        \n",
              "  <svg xmlns=\"http://www.w3.org/2000/svg\" height=\"24px\"viewBox=\"0 0 24 24\"\n",
              "       width=\"24px\">\n",
              "    <path d=\"M0 0h24v24H0V0z\" fill=\"none\"/>\n",
              "    <path d=\"M18.56 5.44l.94 2.06.94-2.06 2.06-.94-2.06-.94-.94-2.06-.94 2.06-2.06.94zm-11 1L8.5 8.5l.94-2.06 2.06-.94-2.06-.94L8.5 2.5l-.94 2.06-2.06.94zm10 10l.94 2.06.94-2.06 2.06-.94-2.06-.94-.94-2.06-.94 2.06-2.06.94z\"/><path d=\"M17.41 7.96l-1.37-1.37c-.4-.4-.92-.59-1.43-.59-.52 0-1.04.2-1.43.59L10.3 9.45l-7.72 7.72c-.78.78-.78 2.05 0 2.83L4 21.41c.39.39.9.59 1.41.59.51 0 1.02-.2 1.41-.59l7.78-7.78 2.81-2.81c.8-.78.8-2.07 0-2.86zM5.41 20L4 18.59l7.72-7.72 1.47 1.35L5.41 20z\"/>\n",
              "  </svg>\n",
              "      </button>\n",
              "      \n",
              "  <style>\n",
              "    .colab-df-container {\n",
              "      display:flex;\n",
              "      flex-wrap:wrap;\n",
              "      gap: 12px;\n",
              "    }\n",
              "\n",
              "    .colab-df-convert {\n",
              "      background-color: #E8F0FE;\n",
              "      border: none;\n",
              "      border-radius: 50%;\n",
              "      cursor: pointer;\n",
              "      display: none;\n",
              "      fill: #1967D2;\n",
              "      height: 32px;\n",
              "      padding: 0 0 0 0;\n",
              "      width: 32px;\n",
              "    }\n",
              "\n",
              "    .colab-df-convert:hover {\n",
              "      background-color: #E2EBFA;\n",
              "      box-shadow: 0px 1px 2px rgba(60, 64, 67, 0.3), 0px 1px 3px 1px rgba(60, 64, 67, 0.15);\n",
              "      fill: #174EA6;\n",
              "    }\n",
              "\n",
              "    [theme=dark] .colab-df-convert {\n",
              "      background-color: #3B4455;\n",
              "      fill: #D2E3FC;\n",
              "    }\n",
              "\n",
              "    [theme=dark] .colab-df-convert:hover {\n",
              "      background-color: #434B5C;\n",
              "      box-shadow: 0px 1px 3px 1px rgba(0, 0, 0, 0.15);\n",
              "      filter: drop-shadow(0px 1px 2px rgba(0, 0, 0, 0.3));\n",
              "      fill: #FFFFFF;\n",
              "    }\n",
              "  </style>\n",
              "\n",
              "      <script>\n",
              "        const buttonEl =\n",
              "          document.querySelector('#df-6ed3f9c2-fe13-43d8-a12c-946e5e8b5bc5 button.colab-df-convert');\n",
              "        buttonEl.style.display =\n",
              "          google.colab.kernel.accessAllowed ? 'block' : 'none';\n",
              "\n",
              "        async function convertToInteractive(key) {\n",
              "          const element = document.querySelector('#df-6ed3f9c2-fe13-43d8-a12c-946e5e8b5bc5');\n",
              "          const dataTable =\n",
              "            await google.colab.kernel.invokeFunction('convertToInteractive',\n",
              "                                                     [key], {});\n",
              "          if (!dataTable) return;\n",
              "\n",
              "          const docLinkHtml = 'Like what you see? Visit the ' +\n",
              "            '<a target=\"_blank\" href=https://colab.research.google.com/notebooks/data_table.ipynb>data table notebook</a>'\n",
              "            + ' to learn more about interactive tables.';\n",
              "          element.innerHTML = '';\n",
              "          dataTable['output_type'] = 'display_data';\n",
              "          await google.colab.output.renderOutput(dataTable, element);\n",
              "          const docLink = document.createElement('div');\n",
              "          docLink.innerHTML = docLinkHtml;\n",
              "          element.appendChild(docLink);\n",
              "        }\n",
              "      </script>\n",
              "    </div>\n",
              "  </div>\n",
              "  "
            ]
          },
          "metadata": {},
          "execution_count": 3
        }
      ],
      "source": [
        "df = pd.read_csv(\"neo.csv\")\n",
        "df.head()"
      ],
      "id": "a78898c5"
    },
    {
      "cell_type": "code",
      "execution_count": null,
      "metadata": {
        "id": "435c2f1e"
      },
      "outputs": [],
      "source": [
        "df.info()"
      ],
      "id": "435c2f1e"
    },
    {
      "cell_type": "code",
      "execution_count": null,
      "metadata": {
        "id": "a3a41e6a"
      },
      "outputs": [],
      "source": [
        "df.describe()"
      ],
      "id": "a3a41e6a"
    },
    {
      "cell_type": "code",
      "execution_count": null,
      "metadata": {
        "id": "28279015"
      },
      "outputs": [],
      "source": [
        "# Finding Unqiue Values in Each columns\n",
        "df.nunique()"
      ],
      "id": "28279015"
    },
    {
      "cell_type": "code",
      "execution_count": null,
      "metadata": {
        "id": "a9d5f74a"
      },
      "outputs": [],
      "source": [
        "# Finding Correlation between Features in Dataset\n",
        "df.corr()"
      ],
      "id": "a9d5f74a"
    },
    {
      "cell_type": "code",
      "execution_count": null,
      "metadata": {
        "colab": {
          "base_uri": "https://localhost:8080/",
          "height": 206
        },
        "id": "29894f3e",
        "outputId": "4d86e1a1-00f9-43f7-fe17-ce6377de26e2",
        "scrolled": true
      },
      "outputs": [
        {
          "output_type": "execute_result",
          "data": {
            "text/plain": [
              "                  name  est_diameter_min  est_diameter_max  relative_velocity  \\\n",
              "0  162635 (2000 SS164)          1.198271          2.679415       13569.249224   \n",
              "1    277475 (2005 WK4)          0.265800          0.594347       73588.726663   \n",
              "2   512244 (2015 YE18)          0.722030          1.614507      114258.692129   \n",
              "3          (2012 BV13)          0.096506          0.215794       24764.303138   \n",
              "4          (2014 GE35)          0.255009          0.570217       42737.733765   \n",
              "\n",
              "   miss_distance  absolute_magnitude  hazardous  \n",
              "0   5.483974e+07               16.73      False  \n",
              "1   6.143813e+07               20.00       True  \n",
              "2   4.979872e+07               17.83      False  \n",
              "3   2.543497e+07               22.20      False  \n",
              "4   4.627557e+07               20.09       True  "
            ],
            "text/html": [
              "\n",
              "  <div id=\"df-e4dd3725-5ea7-430d-80f3-e253fb607b33\">\n",
              "    <div class=\"colab-df-container\">\n",
              "      <div>\n",
              "<style scoped>\n",
              "    .dataframe tbody tr th:only-of-type {\n",
              "        vertical-align: middle;\n",
              "    }\n",
              "\n",
              "    .dataframe tbody tr th {\n",
              "        vertical-align: top;\n",
              "    }\n",
              "\n",
              "    .dataframe thead th {\n",
              "        text-align: right;\n",
              "    }\n",
              "</style>\n",
              "<table border=\"1\" class=\"dataframe\">\n",
              "  <thead>\n",
              "    <tr style=\"text-align: right;\">\n",
              "      <th></th>\n",
              "      <th>name</th>\n",
              "      <th>est_diameter_min</th>\n",
              "      <th>est_diameter_max</th>\n",
              "      <th>relative_velocity</th>\n",
              "      <th>miss_distance</th>\n",
              "      <th>absolute_magnitude</th>\n",
              "      <th>hazardous</th>\n",
              "    </tr>\n",
              "  </thead>\n",
              "  <tbody>\n",
              "    <tr>\n",
              "      <th>0</th>\n",
              "      <td>162635 (2000 SS164)</td>\n",
              "      <td>1.198271</td>\n",
              "      <td>2.679415</td>\n",
              "      <td>13569.249224</td>\n",
              "      <td>5.483974e+07</td>\n",
              "      <td>16.73</td>\n",
              "      <td>False</td>\n",
              "    </tr>\n",
              "    <tr>\n",
              "      <th>1</th>\n",
              "      <td>277475 (2005 WK4)</td>\n",
              "      <td>0.265800</td>\n",
              "      <td>0.594347</td>\n",
              "      <td>73588.726663</td>\n",
              "      <td>6.143813e+07</td>\n",
              "      <td>20.00</td>\n",
              "      <td>True</td>\n",
              "    </tr>\n",
              "    <tr>\n",
              "      <th>2</th>\n",
              "      <td>512244 (2015 YE18)</td>\n",
              "      <td>0.722030</td>\n",
              "      <td>1.614507</td>\n",
              "      <td>114258.692129</td>\n",
              "      <td>4.979872e+07</td>\n",
              "      <td>17.83</td>\n",
              "      <td>False</td>\n",
              "    </tr>\n",
              "    <tr>\n",
              "      <th>3</th>\n",
              "      <td>(2012 BV13)</td>\n",
              "      <td>0.096506</td>\n",
              "      <td>0.215794</td>\n",
              "      <td>24764.303138</td>\n",
              "      <td>2.543497e+07</td>\n",
              "      <td>22.20</td>\n",
              "      <td>False</td>\n",
              "    </tr>\n",
              "    <tr>\n",
              "      <th>4</th>\n",
              "      <td>(2014 GE35)</td>\n",
              "      <td>0.255009</td>\n",
              "      <td>0.570217</td>\n",
              "      <td>42737.733765</td>\n",
              "      <td>4.627557e+07</td>\n",
              "      <td>20.09</td>\n",
              "      <td>True</td>\n",
              "    </tr>\n",
              "  </tbody>\n",
              "</table>\n",
              "</div>\n",
              "      <button class=\"colab-df-convert\" onclick=\"convertToInteractive('df-e4dd3725-5ea7-430d-80f3-e253fb607b33')\"\n",
              "              title=\"Convert this dataframe to an interactive table.\"\n",
              "              style=\"display:none;\">\n",
              "        \n",
              "  <svg xmlns=\"http://www.w3.org/2000/svg\" height=\"24px\"viewBox=\"0 0 24 24\"\n",
              "       width=\"24px\">\n",
              "    <path d=\"M0 0h24v24H0V0z\" fill=\"none\"/>\n",
              "    <path d=\"M18.56 5.44l.94 2.06.94-2.06 2.06-.94-2.06-.94-.94-2.06-.94 2.06-2.06.94zm-11 1L8.5 8.5l.94-2.06 2.06-.94-2.06-.94L8.5 2.5l-.94 2.06-2.06.94zm10 10l.94 2.06.94-2.06 2.06-.94-2.06-.94-.94-2.06-.94 2.06-2.06.94z\"/><path d=\"M17.41 7.96l-1.37-1.37c-.4-.4-.92-.59-1.43-.59-.52 0-1.04.2-1.43.59L10.3 9.45l-7.72 7.72c-.78.78-.78 2.05 0 2.83L4 21.41c.39.39.9.59 1.41.59.51 0 1.02-.2 1.41-.59l7.78-7.78 2.81-2.81c.8-.78.8-2.07 0-2.86zM5.41 20L4 18.59l7.72-7.72 1.47 1.35L5.41 20z\"/>\n",
              "  </svg>\n",
              "      </button>\n",
              "      \n",
              "  <style>\n",
              "    .colab-df-container {\n",
              "      display:flex;\n",
              "      flex-wrap:wrap;\n",
              "      gap: 12px;\n",
              "    }\n",
              "\n",
              "    .colab-df-convert {\n",
              "      background-color: #E8F0FE;\n",
              "      border: none;\n",
              "      border-radius: 50%;\n",
              "      cursor: pointer;\n",
              "      display: none;\n",
              "      fill: #1967D2;\n",
              "      height: 32px;\n",
              "      padding: 0 0 0 0;\n",
              "      width: 32px;\n",
              "    }\n",
              "\n",
              "    .colab-df-convert:hover {\n",
              "      background-color: #E2EBFA;\n",
              "      box-shadow: 0px 1px 2px rgba(60, 64, 67, 0.3), 0px 1px 3px 1px rgba(60, 64, 67, 0.15);\n",
              "      fill: #174EA6;\n",
              "    }\n",
              "\n",
              "    [theme=dark] .colab-df-convert {\n",
              "      background-color: #3B4455;\n",
              "      fill: #D2E3FC;\n",
              "    }\n",
              "\n",
              "    [theme=dark] .colab-df-convert:hover {\n",
              "      background-color: #434B5C;\n",
              "      box-shadow: 0px 1px 3px 1px rgba(0, 0, 0, 0.15);\n",
              "      filter: drop-shadow(0px 1px 2px rgba(0, 0, 0, 0.3));\n",
              "      fill: #FFFFFF;\n",
              "    }\n",
              "  </style>\n",
              "\n",
              "      <script>\n",
              "        const buttonEl =\n",
              "          document.querySelector('#df-e4dd3725-5ea7-430d-80f3-e253fb607b33 button.colab-df-convert');\n",
              "        buttonEl.style.display =\n",
              "          google.colab.kernel.accessAllowed ? 'block' : 'none';\n",
              "\n",
              "        async function convertToInteractive(key) {\n",
              "          const element = document.querySelector('#df-e4dd3725-5ea7-430d-80f3-e253fb607b33');\n",
              "          const dataTable =\n",
              "            await google.colab.kernel.invokeFunction('convertToInteractive',\n",
              "                                                     [key], {});\n",
              "          if (!dataTable) return;\n",
              "\n",
              "          const docLinkHtml = 'Like what you see? Visit the ' +\n",
              "            '<a target=\"_blank\" href=https://colab.research.google.com/notebooks/data_table.ipynb>data table notebook</a>'\n",
              "            + ' to learn more about interactive tables.';\n",
              "          element.innerHTML = '';\n",
              "          dataTable['output_type'] = 'display_data';\n",
              "          await google.colab.output.renderOutput(dataTable, element);\n",
              "          const docLink = document.createElement('div');\n",
              "          docLink.innerHTML = docLinkHtml;\n",
              "          element.appendChild(docLink);\n",
              "        }\n",
              "      </script>\n",
              "    </div>\n",
              "  </div>\n",
              "  "
            ]
          },
          "metadata": {},
          "execution_count": 6
        }
      ],
      "source": [
        "# Dropping insignificant Features\n",
        "df = df.drop(columns = [\"id\",\"sentry_object\",\"orbiting_body\"])\n",
        "df.head()"
      ],
      "id": "29894f3e"
    },
    {
      "cell_type": "code",
      "execution_count": null,
      "metadata": {
        "id": "9c739909"
      },
      "outputs": [],
      "source": [
        "#df[\"orbiting_body\"].value_counts().unique()"
      ],
      "id": "9c739909"
    },
    {
      "cell_type": "code",
      "execution_count": null,
      "metadata": {
        "id": "bdb403f8"
      },
      "outputs": [],
      "source": [
        "#df[\"sentry_object\"].value_counts()"
      ],
      "id": "bdb403f8"
    },
    {
      "cell_type": "code",
      "execution_count": null,
      "metadata": {
        "colab": {
          "base_uri": "https://localhost:8080/"
        },
        "id": "05d6e17c",
        "outputId": "d46ad144-39f7-44bb-8ee6-ecb5fe89b9e5"
      },
      "outputs": [
        {
          "output_type": "execute_result",
          "data": {
            "text/plain": [
              "False    81996\n",
              "True      8840\n",
              "Name: hazardous, dtype: int64"
            ]
          },
          "metadata": {},
          "execution_count": 8
        }
      ],
      "source": [
        "# Counting The Number of Hazardous and Non Hazardous Asteriods Count\n",
        "df[\"hazardous\"].value_counts()  "
      ],
      "id": "05d6e17c"
    },
    {
      "cell_type": "code",
      "execution_count": null,
      "metadata": {
        "colab": {
          "base_uri": "https://localhost:8080/"
        },
        "id": "ee947b5b",
        "outputId": "f39c29ed-200c-4af9-dc92-fb8741738579"
      },
      "outputs": [
        {
          "output_type": "execute_result",
          "data": {
            "text/plain": [
              "name                  0\n",
              "est_diameter_min      0\n",
              "est_diameter_max      0\n",
              "relative_velocity     0\n",
              "miss_distance         0\n",
              "absolute_magnitude    0\n",
              "hazardous             0\n",
              "dtype: int64"
            ]
          },
          "metadata": {},
          "execution_count": 9
        }
      ],
      "source": [
        "## Finding Null/ NA values in dataset \n",
        "df.isnull().sum() "
      ],
      "id": "ee947b5b"
    },
    {
      "cell_type": "code",
      "execution_count": null,
      "metadata": {
        "colab": {
          "base_uri": "https://localhost:8080/",
          "height": 1000
        },
        "id": "30135f4c",
        "outputId": "425d2c17-3794-4565-ebb0-504728331c62"
      },
      "outputs": [
        {
          "output_type": "display_data",
          "data": {
            "text/plain": [
              "<Figure size 1440x1440 with 2 Axes>"
            ],
            "image/png": "[encoded data removed]"
          },
          "metadata": {
            "needs_background": "light"
          }
        }
      ],
      "source": [
        "# Heatmap for NEO Dataset\n",
        "plt.figure(figsize=(20,20))\n",
        "sns.heatmap(df.corr(),annot=True,cmap=plt.cm.Accent_r)\n",
        "plt.show()"
      ],
      "id": "30135f4c"
    },
    {
      "cell_type": "markdown",
      "metadata": {
        "id": "2401b39e"
      },
      "source": [
        "## Data Visualization "
      ],
      "id": "2401b39e"
    },
    {
      "cell_type": "code",
      "execution_count": null,
      "metadata": {
        "id": "28c77726"
      },
      "outputs": [],
      "source": [
        "# Plot the number of True (1) and False (0) in hazardous feature  \n",
        "plt.figure(figsize=(8,8))\n",
        "sns.countplot(x = 'hazardous', data = df )"
      ],
      "id": "28c77726"
    },
    {
      "cell_type": "code",
      "execution_count": null,
      "metadata": {
        "id": "857ae90b"
      },
      "outputs": [],
      "source": [
        "# Box Plot \n",
        "plt.figure(figsize=(15,15))\n",
        "plot=['est_diameter_min', 'est_diameter_max','relative_velocity', 'miss_distance','absolute_magnitude', 'hazardous']\n",
        "df.boxplot(plot)"
      ],
      "id": "857ae90b"
    },
    {
      "cell_type": "code",
      "execution_count": null,
      "metadata": {
        "id": "7dcff969"
      },
      "outputs": [],
      "source": [
        "# Plotting Histogram for Velocity and Miss Distance of Hazardous Objects \n",
        "PLot1 = px.histogram(df, y = \"relative_velocity\", x = \"miss_distance\", \n",
        "                    color = \"hazardous\", hover_data = df.columns, \n",
        "                    title = 'Plotting Velocity and Miss Distance of Hazardous Objects')\n",
        "PLot1.show()"
      ],
      "id": "7dcff969"
    },
    {
      "cell_type": "code",
      "execution_count": null,
      "metadata": {
        "id": "49c2bdcb"
      },
      "outputs": [],
      "source": [
        "Plot2 = px.scatter(df, y=\"relative_velocity\", x=\"miss_distance\", color=\"hazardous\", size = 'est_diameter_min',\n",
        "                   hover_data=df.columns, template = 'plotly_dark',\n",
        "                  title = 'Velocity and Miss Distance of Hazardous Objects with Minimum Diameter of object')\n",
        "Plot2.show()"
      ],
      "id": "49c2bdcb"
    },
    {
      "cell_type": "code",
      "execution_count": null,
      "metadata": {
        "id": "8d5cd712"
      },
      "outputs": [],
      "source": [
        "# Plotting Magnitude with respect to Estimated Diameter of the asteriod which are hazardous and Non-Hazardous\n",
        "plot3 = px.scatter(df ,  x = 'absolute_magnitude', y= 'est_diameter_min', color=\"hazardous\", template = 'ggplot2', \n",
        "                  title = 'Plotting of Magnitude with respect to Estimated Diameter of the Asteriod (Hazardous) ' )\n",
        "plot3.show()"
      ],
      "id": "8d5cd712"
    },
    {
      "cell_type": "code",
      "execution_count": null,
      "metadata": {
        "id": "8726c867"
      },
      "outputs": [],
      "source": [
        "# Plotting Scatter Plot for Estimated Maximum Diameter and Velocity of the Asteriod\n",
        "plot4 = px.scatter(df,y= 'est_diameter_max' ,x = 'relative_velocity',  template = 'plotly_dark', title= \"Scatter Plot for Estimated Maximum Diameter and Velocity of the Asteriod\")\n",
        "plot4.show()"
      ],
      "id": "8726c867"
    },
    {
      "cell_type": "code",
      "execution_count": null,
      "metadata": {
        "id": "7493ce2c"
      },
      "outputs": [],
      "source": [
        "# plt5= sns.pairplot(df,hue = 'hazardous')\n",
        "# plt5.fig.suptitle(\"Your Title\", y=1.08)"
      ],
      "id": "7493ce2c"
    },
    {
      "cell_type": "code",
      "execution_count": null,
      "metadata": {
        "id": "378d0aaa"
      },
      "outputs": [],
      "source": [
        "# let's start grouping everything by hazardous\n",
        "\n",
        "nHz = df[(df[\"hazardous\"] == False)]\n",
        "hz = df[(df[\"hazardous\"] == True)]\n",
        "\n",
        "# function to show the hazardous and non-hazardous distributions of a variable\n",
        "def compare_dist_hazard(columnName):\n",
        "    \n",
        "    f, ax = plt.subplots(figsize=(6, 5))\n",
        "\n",
        "    ax = sns.kdeplot(nHz[columnName], ax=ax, color=\"tab:green\", label=\"Not Hazardous\")\n",
        "    ax = sns.kdeplot(hz[columnName], ax=ax, color=\"tab:red\", label=\"Hazardous\")\n",
        "    \n",
        "    ax.set_xlabel(\"\")\n",
        "    ax.set_yticklabels([])\n",
        "    ax.set_title(columnName + \" grouped by hazardous\")\n",
        "    ax.legend()\n",
        "    plt.show()"
      ],
      "id": "378d0aaa"
    },
    {
      "cell_type": "code",
      "execution_count": null,
      "metadata": {
        "id": "07eebf0d"
      },
      "outputs": [],
      "source": [
        "compare_dist_hazard(\"absolute_magnitude\")"
      ],
      "id": "07eebf0d"
    },
    {
      "cell_type": "code",
      "execution_count": null,
      "metadata": {
        "id": "e13ecef9"
      },
      "outputs": [],
      "source": [
        "compare_dist_hazard(\"miss_distance\")"
      ],
      "id": "e13ecef9"
    },
    {
      "cell_type": "markdown",
      "metadata": {
        "id": "5c0dd28f"
      },
      "source": [
        "## Data Modelling "
      ],
      "id": "5c0dd28f"
    },
    {
      "cell_type": "code",
      "execution_count": null,
      "metadata": {
        "colab": {
          "base_uri": "https://localhost:8080/"
        },
        "id": "31c6f26a",
        "outputId": "6676d1e7-867c-4da9-f525-3b63ad332f53"
      },
      "outputs": [
        {
          "output_type": "execute_result",
          "data": {
            "text/plain": [
              "((63585, 5), (27251, 5), (63585,), (27251,))"
            ]
          },
          "metadata": {},
          "execution_count": 12
        }
      ],
      "source": [
        "from sklearn.model_selection import train_test_split,RepeatedStratifiedKFold,RandomizedSearchCV\n",
        "x = df.drop([\"hazardous\",\"name\"], axis=1)\n",
        "y = df.hazardous.astype(int)\n",
        "x_train, x_test, y_train, y_test = train_test_split(x, y, test_size=0.3, random_state=101)\n",
        "x_train.shape, x_test.shape, y_train.shape, y_test.shape"
      ],
      "id": "31c6f26a"
    },
    {
      "cell_type": "code",
      "execution_count": null,
      "metadata": {
        "id": "9a6270b3"
      },
      "outputs": [],
      "source": [
        "from sklearn.preprocessing import StandardScaler\n",
        "sc = StandardScaler()\n",
        "x_train = sc.fit_transform(x_train)\n",
        "x_test = sc.transform(x_test)"
      ],
      "id": "9a6270b3"
    },
    {
      "cell_type": "markdown",
      "metadata": {
        "id": "b666e31a"
      },
      "source": [
        "## Logistic Regression "
      ],
      "id": "b666e31a"
    },
    {
      "cell_type": "code",
      "execution_count": null,
      "metadata": {
        "id": "76c74cf8"
      },
      "outputs": [],
      "source": [
        "from sklearn.linear_model import LogisticRegression \n",
        "lr = LogisticRegression()\n",
        "lr.fit(x_train,y_train)"
      ],
      "id": "76c74cf8"
    },
    {
      "cell_type": "code",
      "execution_count": null,
      "metadata": {
        "id": "4bdf627c"
      },
      "outputs": [],
      "source": [
        "# Test Dataset\n",
        "pred1 = lr.predict(x_test)\n",
        "pred1\n",
        "from sklearn.metrics import classification_report, accuracy_score\n",
        "lr_acc = accuracy_score(pred1,y_test)\n",
        "print(f\"Test Dataset Accuracy score : {lr_acc}\\n\")\n",
        "# train dataset\n",
        "predtest= lr.predict(x_train)\n",
        "\n",
        "lr_acc1  = accuracy_score(predtest,y_train)\n",
        "print(f\"Train Dataset Accuracy score : {lr_acc1}\\n\")"
      ],
      "id": "4bdf627c"
    },
    {
      "cell_type": "code",
      "execution_count": null,
      "metadata": {
        "id": "66af87ec"
      },
      "outputs": [],
      "source": [
        "from sklearn.metrics import accuracy_score, confusion_matrix,classification_report\n",
        "lr_acc = accuracy_score(pred1,y_test)\n",
        "print(f'The Accuracy of Logistic Regression is : {lr_acc}\\n')\n",
        "print(\"Confusion Matrix =  \\n\",confusion_matrix(pred1,y_test))"
      ],
      "id": "66af87ec"
    },
    {
      "cell_type": "code",
      "execution_count": null,
      "metadata": {
        "id": "32a9934e"
      },
      "outputs": [],
      "source": [
        "# Test Dataset Confusion Matrix \n",
        "cm = confusion_matrix(pred1,y_test)\n",
        "sns.heatmap(cm, annot=True, fmt='g', cbar=False, cmap='BuPu')\n",
        "plt.xlabel('Predicted Values')\n",
        "plt.ylabel('Actual Values')\n",
        "plt.title('lr Confusion Matrix')\n",
        "plt.show()"
      ],
      "id": "32a9934e"
    },
    {
      "cell_type": "code",
      "execution_count": null,
      "metadata": {
        "id": "f366acdb"
      },
      "outputs": [],
      "source": [
        "print(classification_report(y_test,pred1))"
      ],
      "id": "f366acdb"
    },
    {
      "cell_type": "code",
      "execution_count": null,
      "metadata": {
        "id": "1ba74599"
      },
      "outputs": [],
      "source": [
        "# Train Dataset Confusion Matrix \n",
        "cm = confusion_matrix(predtest,y_train)\n",
        "sns.heatmap(cm, annot=True, fmt='g', cbar=False, cmap='BuPu')\n",
        "plt.xlabel('Predicted Values')\n",
        "plt.ylabel('Actual Values')\n",
        "plt.title('lr Confusion Matrix')\n",
        "plt.show()"
      ],
      "id": "1ba74599"
    },
    {
      "cell_type": "code",
      "execution_count": null,
      "metadata": {
        "id": "6b7f8e6e"
      },
      "outputs": [],
      "source": [
        "print(classification_report(y_train,predtest))"
      ],
      "id": "6b7f8e6e"
    },
    {
      "cell_type": "markdown",
      "metadata": {
        "id": "d8c8212f"
      },
      "source": [
        "## Support Vector Machine "
      ],
      "id": "d8c8212f"
    },
    {
      "cell_type": "code",
      "execution_count": null,
      "metadata": {
        "id": "4504740b"
      },
      "outputs": [],
      "source": [
        "from sklearn.svm import SVC\n",
        "knn = SVC()\n",
        "knn.fit(x_train,y_train)"
      ],
      "id": "4504740b"
    },
    {
      "cell_type": "code",
      "execution_count": null,
      "metadata": {
        "id": "ad0e2086"
      },
      "outputs": [],
      "source": [
        "# Test Dataset \n",
        "pred2 = knn.predict(x_test)\n",
        "pred2\n",
        "svc_acc = accuracy_score(pred2,y_test)\n",
        "print(f\"Test Dataset Accuracy score : {svc_acc}\\n\")\n",
        "# Train Dataset\n",
        "pred_train = knn.predict(x_train)\n",
        "pred_train\n",
        "svc_acc1  = accuracy_score(pred_train,y_train)\n",
        "print(f\"Train Dataset Accuracy score : {svc_acc1}\\n\")"
      ],
      "id": "ad0e2086"
    },
    {
      "cell_type": "code",
      "execution_count": null,
      "metadata": {
        "id": "73885f76"
      },
      "outputs": [],
      "source": [
        "# Test Dataset \n",
        "svc_acc = accuracy_score(pred2,y_test)\n",
        "print(f'The Accuracy of SVM Classifier Model is : {svc_acc} \\n')\n",
        "print(\"Confusion Matrix = \\n\",confusion_matrix(pred2,y_test))\n",
        "print()\n",
        "# Train Dataset \n",
        "svc_acc = accuracy_score(pred2,y_test)\n",
        "print(f'The Accuracy of SVM Classifier Model is : {svc_acc1} \\n')\n",
        "print(\"Confusion Matrix =\\n\",confusion_matrix(pred_train,y_train))"
      ],
      "id": "73885f76"
    },
    {
      "cell_type": "code",
      "execution_count": null,
      "metadata": {
        "id": "3c7337bc"
      },
      "outputs": [],
      "source": [
        "# Test Dataset Confusion Matrix\n",
        "cm = confusion_matrix(pred2,y_test)\n",
        "sns.heatmap(cm, annot=True, fmt='g', cbar=False, cmap='BuPu')\n",
        "plt.xlabel('Predicted Values')\n",
        "plt.ylabel('Actual Values')\n",
        "plt.title('SVC Confusion Matrix')\n",
        "plt.show()"
      ],
      "id": "3c7337bc"
    },
    {
      "cell_type": "code",
      "execution_count": null,
      "metadata": {
        "id": "d2183905"
      },
      "outputs": [],
      "source": [
        "print(classification_report(y_test,pred2))"
      ],
      "id": "d2183905"
    },
    {
      "cell_type": "code",
      "execution_count": null,
      "metadata": {
        "id": "d3c1bb16"
      },
      "outputs": [],
      "source": [
        "# Train Dataset Confusion Matrix \n",
        "cm = confusion_matrix(pred_train,y_train)\n",
        "sns.heatmap(cm, annot=True, fmt='g', cbar=False, cmap='BuPu')\n",
        "plt.xlabel('Predicted Values')\n",
        "plt.ylabel('Actual Values')\n",
        "plt.title('SVC Confusion Matrix')\n",
        "plt.show()"
      ],
      "id": "d3c1bb16"
    },
    {
      "cell_type": "code",
      "execution_count": null,
      "metadata": {
        "id": "bbeb7208"
      },
      "outputs": [],
      "source": [
        "print(classification_report(y_train,pred_train))"
      ],
      "id": "bbeb7208"
    },
    {
      "cell_type": "markdown",
      "metadata": {
        "id": "d19f69c5"
      },
      "source": [
        "## Random Forest Classifier \n"
      ],
      "id": "d19f69c5"
    },
    {
      "cell_type": "code",
      "execution_count": null,
      "metadata": {
        "id": "58f678c3",
        "colab": {
          "base_uri": "https://localhost:8080/"
        },
        "outputId": "ad502ff2-33ef-4cf1-decc-1e8d1ad2d95e"
      },
      "outputs": [
        {
          "output_type": "execute_result",
          "data": {
            "text/plain": [
              "RandomForestClassifier()"
            ]
          },
          "metadata": {},
          "execution_count": 14
        }
      ],
      "source": [
        "from sklearn.ensemble import RandomForestClassifier\n",
        "RF = RandomForestClassifier()\n",
        "RF.fit(x_train,y_train)"
      ],
      "id": "58f678c3"
    },
    {
      "cell_type": "code",
      "execution_count": null,
      "metadata": {
        "id": "ba957fc3",
        "colab": {
          "base_uri": "https://localhost:8080/"
        },
        "outputId": "b5a30365-6a3a-48bb-b0f4-aa9a29d08342"
      },
      "outputs": [
        {
          "output_type": "execute_result",
          "data": {
            "text/plain": [
              "array([0, 0, 0, ..., 0, 0, 0])"
            ]
          },
          "metadata": {},
          "execution_count": 15
        }
      ],
      "source": [
        "# Test Dataset Prediiction \n",
        "pred3 = RF.predict(x_test)\n",
        "pred3\n",
        "# Train Dataset Prediction \n",
        "pred_train = RF.predict(x_train)\n",
        "pred_train"
      ],
      "id": "ba957fc3"
    },
    {
      "cell_type": "code",
      "execution_count": null,
      "metadata": {
        "id": "56453d86",
        "colab": {
          "base_uri": "https://localhost:8080/",
          "height": 225
        },
        "outputId": "5b96e870-112a-4a08-b597-5b98fd541e5e"
      },
      "outputs": [
        {
          "output_type": "error",
          "ename": "NameError",
          "evalue": "ignored",
          "traceback": [
            "\u001b[0;31m---------------------------------------------------------------------------\u001b[0m",
            "\u001b[0;31mNameError\u001b[0m                                 Traceback (most recent call last)",
            "\u001b[0;32m<ipython-input-16-961c37511d90>\u001b[0m in \u001b[0;36m<module>\u001b[0;34m\u001b[0m\n\u001b[0;32m----> 1\u001b[0;31m \u001b[0mrf_acc\u001b[0m \u001b[0;34m=\u001b[0m \u001b[0maccuracy_score\u001b[0m\u001b[0;34m(\u001b[0m\u001b[0mpred3\u001b[0m\u001b[0;34m,\u001b[0m\u001b[0my_test\u001b[0m\u001b[0;34m)\u001b[0m\u001b[0;34m\u001b[0m\u001b[0;34m\u001b[0m\u001b[0m\n\u001b[0m\u001b[1;32m      2\u001b[0m \u001b[0;31m# rf_acc = accuracy_score(pred_train,y_train) # Overfitting\u001b[0m\u001b[0;34m\u001b[0m\u001b[0;34m\u001b[0m\u001b[0;34m\u001b[0m\u001b[0m\n\u001b[1;32m      3\u001b[0m \u001b[0mprint\u001b[0m\u001b[0;34m(\u001b[0m\u001b[0;34mf'The Accuracy of Random Forest Classifier Model is : {rf_acc} \\n'\u001b[0m\u001b[0;34m)\u001b[0m\u001b[0;34m\u001b[0m\u001b[0;34m\u001b[0m\u001b[0m\n\u001b[1;32m      4\u001b[0m \u001b[0mprint\u001b[0m\u001b[0;34m(\u001b[0m\u001b[0;34m\"Confusion Matrix = \\n\"\u001b[0m\u001b[0;34m,\u001b[0m\u001b[0mconfusion_matrix\u001b[0m\u001b[0;34m(\u001b[0m\u001b[0mpred3\u001b[0m\u001b[0;34m,\u001b[0m\u001b[0my_test\u001b[0m\u001b[0;34m)\u001b[0m\u001b[0;34m)\u001b[0m\u001b[0;34m\u001b[0m\u001b[0;34m\u001b[0m\u001b[0m\n",
            "\u001b[0;31mNameError\u001b[0m: name 'accuracy_score' is not defined"
          ]
        }
      ],
      "source": [
        "rf_acc = accuracy_score(pred3,y_test)\n",
        "# rf_acc = accuracy_score(pred_train,y_train) # Overfitting \n",
        "print(f'The Accuracy of Random Forest Classifier Model is : {rf_acc} \\n')\n",
        "print(\"Confusion Matrix = \\n\",confusion_matrix(pred3,y_test))"
      ],
      "id": "56453d86"
    },
    {
      "cell_type": "code",
      "execution_count": null,
      "metadata": {
        "id": "a121d822"
      },
      "outputs": [],
      "source": [
        "cm = confusion_matrix(pred3,y_test)\n",
        "sns.heatmap(cm, annot=True, fmt='g', cbar=False, cmap='BuPu')\n",
        "plt.xlabel('Predicted Values')\n",
        "plt.ylabel('Actual Values')\n",
        "plt.title('RF Confusion Matrix')\n",
        "plt.show()"
      ],
      "id": "a121d822"
    },
    {
      "cell_type": "code",
      "execution_count": null,
      "metadata": {
        "id": "f1cfe67a"
      },
      "outputs": [],
      "source": [
        "print(classification_report(y_test,pred3))"
      ],
      "id": "f1cfe67a"
    },
    {
      "cell_type": "code",
      "execution_count": null,
      "metadata": {
        "id": "cbf66e3a",
        "colab": {
          "base_uri": "https://localhost:8080/",
          "height": 244
        },
        "outputId": "2cfb59f9-08b9-47bc-d289-55386db27a9b"
      },
      "outputs": [
        {
          "output_type": "error",
          "ename": "NameError",
          "evalue": "ignored",
          "traceback": [
            "\u001b[0;31m---------------------------------------------------------------------------\u001b[0m",
            "\u001b[0;31mNameError\u001b[0m                                 Traceback (most recent call last)",
            "\u001b[0;32m<ipython-input-17-1de9029c1c5d>\u001b[0m in \u001b[0;36m<module>\u001b[0;34m\u001b[0m\n\u001b[1;32m     29\u001b[0m \u001b[0mgrid_clf\u001b[0m\u001b[0;34m.\u001b[0m\u001b[0mfit\u001b[0m\u001b[0;34m(\u001b[0m\u001b[0mx_train\u001b[0m\u001b[0;34m,\u001b[0m \u001b[0my_train\u001b[0m\u001b[0;34m)\u001b[0m\u001b[0;34m\u001b[0m\u001b[0;34m\u001b[0m\u001b[0m\n\u001b[1;32m     30\u001b[0m \u001b[0mpred_train\u001b[0m \u001b[0;34m=\u001b[0m \u001b[0mgrid_clf\u001b[0m\u001b[0;34m.\u001b[0m\u001b[0mpredict\u001b[0m\u001b[0;34m(\u001b[0m\u001b[0mx_train\u001b[0m\u001b[0;34m)\u001b[0m\u001b[0;34m\u001b[0m\u001b[0;34m\u001b[0m\u001b[0m\n\u001b[0;32m---> 31\u001b[0;31m \u001b[0mprint\u001b[0m\u001b[0;34m(\u001b[0m\u001b[0mclassification_report\u001b[0m\u001b[0;34m(\u001b[0m\u001b[0my_train\u001b[0m\u001b[0;34m,\u001b[0m\u001b[0mpred_train\u001b[0m\u001b[0;34m)\u001b[0m\u001b[0;34m)\u001b[0m\u001b[0;34m\u001b[0m\u001b[0;34m\u001b[0m\u001b[0m\n\u001b[0m\u001b[1;32m     32\u001b[0m \u001b[0;34m\u001b[0m\u001b[0m\n\u001b[1;32m     33\u001b[0m \u001b[0;31m# pred_train = rf.fit(x_train,y_train).predict(x_train)\u001b[0m\u001b[0;34m\u001b[0m\u001b[0;34m\u001b[0m\u001b[0;34m\u001b[0m\u001b[0m\n",
            "\u001b[0;31mNameError\u001b[0m: name 'classification_report' is not defined"
          ]
        }
      ],
      "source": [
        "clf = RandomForestClassifier(random_state=18)\n",
        "cv = RepeatedStratifiedKFold(n_splits=10, n_repeats=3, random_state=1)\n",
        "# Number of trees in random forest\n",
        "n_estimators = [int(x) for x in np.linspace(start = 1, stop = 20, num = 20)]\n",
        "# number of features in consideration at every split \n",
        "max_features = ['auto', 'sqrt'] \n",
        "# maximum number of levels allowed in each decision tree\n",
        "max_depth = [int(x) for x in np.linspace(10, 120, num = 12)]\n",
        "# minimum sample number to split a node \n",
        "min_samples_split = [2, 6, 10]\n",
        "# minimum sample number that can be stored in a leaf node \n",
        "min_samples_leaf = [1, 3, 4]\n",
        "#  Method of selecting samples for training each tree\n",
        "bootstrap = [True, False] \n",
        "\n",
        "random_grid = {'n_estimators': n_estimators,\n",
        "\n",
        "'max_features': max_features,\n",
        "\n",
        "'max_depth': max_depth,\n",
        "\n",
        "'min_samples_split': min_samples_split,\n",
        "\n",
        "'min_samples_leaf': min_samples_leaf,\n",
        "\n",
        "'bootstrap': bootstrap}\n",
        "\n",
        "grid_clf = RandomizedSearchCV(clf,random_grid, cv=cv)\n",
        "grid_clf.fit(x_train, y_train)\n",
        "pred_train = grid_clf.predict(x_train)\n",
        "print(classification_report(y_train,pred_train))\n",
        "\n",
        "# pred_train = rf.fit(x_train,y_train).predict(x_train)\n",
        "# evaluation(y_train,pred_train)\n"
      ],
      "id": "cbf66e3a"
    },
    {
      "cell_type": "markdown",
      "metadata": {
        "id": "121f3577"
      },
      "source": [
        "## Comparsion of Machine Learning Model Implemented"
      ],
      "id": "121f3577"
    },
    {
      "cell_type": "code",
      "execution_count": null,
      "metadata": {
        "id": "99708058"
      },
      "outputs": [],
      "source": [
        "lr_acc = 90.20\n",
        "rf_acc = 91.68\n",
        "svc_acc= 91.15\n",
        "x = ['lr','SVC','RF']\n",
        "y =[lr_acc,svc_acc,rf_acc]\n",
        "fig, ax = plt.subplots()\n",
        "width = 0.50\n",
        "pps = ax.bar(x, y, width, align='center',color = ['blue', 'orange', 'red'])\n",
        "\n",
        "for p in pps:\n",
        "   height = p.get_height()\n",
        "   ax.text(x=p.get_x() + p.get_width() / 2, y=height+.10,s=\"{}%\".format(height),ha='center')\n",
        "plt.xlabel(\"Algorithms\")\n",
        "plt.ylabel(\"Accuracy Score\")\n",
        "plt.show()"
      ],
      "id": "99708058"
    },
    {
      "cell_type": "code",
      "execution_count": null,
      "metadata": {
        "id": "49a88cc8"
      },
      "outputs": [],
      "source": [
        "print(f\"The Random Forest Classifier Model has the highest accuracy score : {rf_acc}\")"
      ],
      "id": "49a88cc8"
    },
    {
      "cell_type": "code",
      "execution_count": null,
      "metadata": {
        "id": "5bb873ed"
      },
      "outputs": [],
      "source": [
        "# plot = df.plot.pie(y='hazardous', figsize=(5, 5))"
      ],
      "id": "5bb873ed"
    },
    {
      "cell_type": "code",
      "execution_count": null,
      "metadata": {
        "id": "a4fb62fa"
      },
      "outputs": [],
      "source": [
        "df1 = df[df.hazardous].copy(deep=True)\n",
        "df_final1 = df1.sort_values(\"miss_distance\", axis=0, ascending=False).head(10)\n",
        "df_final1"
      ],
      "id": "a4fb62fa"
    },
    {
      "cell_type": "code",
      "execution_count": null,
      "metadata": {
        "id": "45d8ba76"
      },
      "outputs": [],
      "source": [
        "df1 = df[~df.hazardous].copy(deep=True)\n",
        "df_final2 = df1.sort_values(\"miss_distance\", axis=0, ascending=True).head(10)\n",
        "df_final2\n"
      ],
      "id": "45d8ba76"
    },
    {
      "cell_type": "code",
      "execution_count": null,
      "metadata": {
        "id": "41c76ead"
      },
      "outputs": [],
      "source": [
        "df = pd.read_csv(\"neo.csv\")\n",
        "df.head()\n",
        "df['hazardous'] = (df[\"hazardous\"] == True).astype(int)\n",
        "count = (df['hazardous'] == 1).sum()\n",
        "count1 =(df['hazardous'] == 0).sum()\n",
        "\n",
        "# df.groupby(['hazardous']).plot(kind='pie', y='hazardous', autopct='%1.0f%%')\n",
        "plt.pie([count,count1], labels = [\"Hazardous\",\"Non-Hazardous\"],autopct='%1.0f%%'  )\n",
        "plt.title(\"Distribution of Hazardous and Non- Hazardous Asteriods\")\n",
        "plt.show()"
      ],
      "id": "41c76ead"
    },
    {
      "cell_type": "code",
      "execution_count": null,
      "metadata": {
        "id": "_nOqxFgQFIs2"
      },
      "outputs": [],
      "source": [
        "def Input(est_diameter_min, est_diameter_max, relative_velocity,miss_d,magnitude):\n",
        "  x = np.asarray(x)\n",
        "  y = np.asarray(y)\n",
        "  z = np.asarray(z)\n",
        "  zz = np.asarray(zz)\n",
        "  zzz = np.asarray(zzz)\n",
        "  input_data = [[x,y,z,zz,zzz]]\n",
        "  input = input_data\n",
        "  prediction = RF.predict(input)\n",
        "  if prediction == 0 : \n",
        "    print(\"Asteriod is not hazardous\") \n",
        "  elif(prediction == 1) : \n",
        "    print(\"Asteriod is Hazardous\")"
      ],
      "id": "_nOqxFgQFIs2"
    },
    {
      "cell_type": "code",
      "execution_count": null,
      "metadata": {
        "id": "AsMFiKoKrPl2"
      },
      "outputs": [],
      "source": [],
      "id": "AsMFiKoKrPl2"
    },
    {
      "cell_type": "code",
      "execution_count": null,
      "metadata": {
        "id": "ghnrLCWYrt1h"
      },
      "outputs": [],
      "source": [
        "import pickle \n",
        "filename = 'train_model.sav'\n",
        "pickle.dump(grid_clf,open(filename,\"wb\"))"
      ],
      "id": "ghnrLCWYrt1h"
    },
    {
      "cell_type": "code",
      "execution_count": null,
      "metadata": {
        "id": "COcwHIMDuWw9"
      },
      "outputs": [],
      "source": [
        "loaded_model = pickle.load(open('train_model.sav','rb'))"
      ],
      "id": "COcwHIMDuWw9"
    },
    {
      "cell_type": "code",
      "execution_count": null,
      "metadata": {
        "id": "SYOW05JVuq-t"
      },
      "outputs": [],
      "source": [],
      "id": "SYOW05JVuq-t"
    }
  ],
  "metadata": {
    "colab": {
      "provenance": []
    },
    "kernelspec": {
      "display_name": "Python 3",
      "language": "python",
      "name": "python3"
    },
    "language_info": {
      "codemirror_mode": {
        "name": "ipython",
        "version": 3
      },
      "file_extension": ".py",
      "mimetype": "text/x-python",
      "name": "python",
      "nbconvert_exporter": "python",
      "pygments_lexer": "ipython3",
      "version": "3.8.8"
    },
    "accelerator": "GPU",
    "gpuClass": "standard"
  },
  "nbformat": 4,
  "nbformat_minor": 5
}